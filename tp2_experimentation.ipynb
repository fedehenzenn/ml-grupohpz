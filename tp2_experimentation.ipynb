{
 "cells": [
  {
   "cell_type": "code",
   "execution_count": 1,
   "metadata": {},
   "outputs": [],
   "source": [
    "%matplotlib inline"
   ]
  },
  {
   "cell_type": "code",
   "execution_count": 2,
   "metadata": {},
   "outputs": [],
   "source": [
    "import numpy as np\n",
    "import pandas as pd\n",
    "from matplotlib import pyplot as plt\n",
    "\n",
    "from sklearn.metrics import accuracy_score, precision_score, recall_score, confusion_matrix\n",
    "from sklearn.model_selection import train_test_split\n",
    "\n",
    "plt.rcParams['figure.figsize'] = 25, 10"
   ]
  },
  {
   "cell_type": "code",
   "execution_count": 3,
   "metadata": {},
   "outputs": [
    {
     "name": "stdout",
     "output_type": "stream",
     "text": [
      "ID,name,category,main_category,currency,deadline,goal,launched,pledged,state,backers,country,usd pledged,usd_pledged_real,usd_goal_real\r",
      "\r\n",
      "1000002330,The Songs of Adelaide & Abullah,Poetry,Publishing,GBP,2015-10-09,1000.00,2015-08-11 12:12:28,0.00,failed,0,GB,0.00,0.00,1533.95\r",
      "\r\n",
      "1000003930,Greeting From Earth: ZGAC Arts Capsule For ET,Narrative Film,Film & Video,USD,2017-11-01,30000.00,2017-09-02 04:43:57,2421.00,failed,15,US,100.00,2421.00,30000.00\r",
      "\r\n",
      "1000004038,Where is Hank?,Narrative Film,Film & Video,USD,2013-02-26,45000.00,2013-01-12 00:20:50,220.00,failed,3,US,220.00,220.00,45000.00\r",
      "\r\n",
      "1000007540,ToshiCapital Rekordz Needs Help to Complete Album,Music,Music,USD,2012-04-16,5000.00,2012-03-17 03:24:11,1.00,failed,1,US,1.00,1.00,5000.00\r",
      "\r\n",
      "1000011046,Community Film Project: The Art of Neighborhood Filmmaking,Film & Video,Film & Video,USD,2015-08-29,19500.00,2015-07-04 08:35:03,1283.00,canceled,14,US,1283.00,1283.00,19500.00\r",
      "\r\n",
      "1000014025,Monarch Espresso Bar,Restaurants,Food,USD,2016-04-01,50000.00,2016-02-26 13:38:27,52375.00,successful,224,US,52375.00,52375.00,50000.00\r",
      "\r\n",
      "1000023410,Support Solar Roasted Coffee & Green Energy!  SolarCoffee.co,Food,Food,USD,2014-12-21,1000.00,2014-12-01 18:30:44,1205.00,successful,16,US,1205.00,1205.00,1000.00\r",
      "\r\n",
      "1000030581,Chaser Strips. Our Strips make Shots their B*tch!,Drinks,Food,USD,2016-03-17,25000.00,2016-02-01 20:05:12,453.00,failed,40,US,453.00,453.00,25000.00\r",
      "\r\n",
      "1000034518,SPIN - Premium Retractable In-Ear Headphones with Mic,Product Design,Design,USD,2014-05-29,125000.00,2014-04-24 18:14:43,8233.00,canceled,58,US,8233.00,8233.00,125000.00\r",
      "\r\n"
     ]
    }
   ],
   "source": [
    "!head ./ks-projects-201801.csv"
   ]
  },
  {
   "cell_type": "code",
   "execution_count": 4,
   "metadata": {},
   "outputs": [
    {
     "data": {
      "text/plain": [
       "(378661, 14)"
      ]
     },
     "execution_count": 4,
     "metadata": {},
     "output_type": "execute_result"
    }
   ],
   "source": [
    "all_data = pd.read_csv('./ks-projects-201801.csv')\n",
    "BETTER_COLUMN_NAMES = {\n",
    "    'KickstartedId': 'ID',\n",
    "    'Categoria': 'category',\n",
    "    'CateriaPrincipal': 'main_category',\n",
    "    'FechaLimite': 'deadline',\n",
    "    'Moneda': 'currency',\n",
    "    'Meta': 'goal',\n",
    "    'FechaCreacion': 'launched',\n",
    "    'TotalInvertido': 'pledged',\n",
    "    'Estado': 'state',\n",
    "    'Contribuidores': 'backers',\n",
    "    'Pais': 'country',\n",
    "    'TotalInvertidoEnDolar': 'usd pledged',\n",
    "}\n",
    "all_data.rename(columns=BETTER_COLUMN_NAMES, inplace=True)\n",
    "\n",
    "all_data.set_index('ID', inplace=True)\n",
    "\n",
    "all_data.shape"
   ]
  },
  {
   "cell_type": "code",
   "execution_count": 5,
   "metadata": {},
   "outputs": [],
   "source": [
    "all_data['deadline']=pd.to_datetime(all_data['deadline'])\n",
    "all_data['launched']=pd.to_datetime(all_data['launched'])\n",
    "all_data['countday']=all_data['deadline'] - all_data['launched']\n",
    "all_data['countday']= all_data['countday'].astype('timedelta64[D]')"
   ]
  },
  {
   "cell_type": "code",
   "execution_count": 6,
   "metadata": {},
   "outputs": [],
   "source": [
    "all_data = all_data.drop(all_data[all_data['state'] == 'live'].index)\n",
    "all_data = all_data.drop(all_data[all_data['state'] == 'suspended'].index)\n",
    "all_data = all_data.drop(all_data[all_data['state'] == 'undefined'].index)\n",
    "all_data = all_data.drop(columns=['name'])\n",
    "all_data = all_data.drop(columns=['category'])\n",
    "all_data = all_data.drop(columns=['usd pledged'])"
   ]
  },
  {
   "cell_type": "code",
   "execution_count": 34,
   "metadata": {},
   "outputs": [
    {
     "data": {
      "text/plain": [
       "failed        197719\n",
       "successful    133956\n",
       "canceled       38773\n",
       "Name: state, dtype: int64"
      ]
     },
     "execution_count": 34,
     "metadata": {},
     "output_type": "execute_result"
    }
   ],
   "source": [
    "all_data = all_data.drop(all_data[all_data['countday'] > 100].index)\n",
    "all_data['countday'].fillna(all_data.countday.mean(), inplace=True)\n",
    "all_data['state'].value_counts()"
   ]
  },
  {
   "cell_type": "markdown",
   "metadata": {},
   "source": [
    "# Variables\n",
    "\n",
    "## Salida\n",
    "- state. Valores posibles (suspended,live,undefined,canceled,successfull,state)\n",
    "\n",
    "## Entrada\n",
    "- main_category: categoría. Valores posibles (Music,Publishing,Film & Video,Dance,Journalist,Crafts,Photography,Comics,Theater,Fashion,Food,Art,Desing,Techonogy,Games) string\n",
    "- Countday: Cantidad de dìas entre la diferencia de launched y deadline. float\n",
    "- backers: Patrocinadores\n",
    "- country: País del kickstarter\n",
    "- pledged: invertido.\n",
    "- usd_pledged_real: inversión en dolares\n",
    "- usd_goal_real: Meta convertida en dolar.\n",
    "\n",
    "\n",
    "## No utilizaremos como entradas\n",
    "- ID:  Esto puede generar sobreentrenamiento\n",
    "- name: Esto tiene un gran cambio que puede conducir a sobreentrenamiento.\n",
    "- category: Subcategoría que puede generar duplicidad con el parámetro main_category.\n",
    "- currency: Se duplica de country y por lo tanto puede generar sobreentrenamiento.\n",
    "- usd_pledged: inversión en dolares, contiene valores en null, ademas es igual a usd_pledged_real que no tiene valores en null\n",
    "- deadline y launched: Fecha límite y fecha de lanzamiento del kickstarter se utilizara countday para reflejar la cantidad de dias entre los mismos."
   ]
  },
  {
   "cell_type": "code",
   "execution_count": 8,
   "metadata": {},
   "outputs": [],
   "source": [
    "# 60% train, 20% test, 20% validation\n",
    "train, not_train = train_test_split(all_data, test_size=0.4)\n",
    "validation, test = train_test_split(not_train, test_size=0.5)"
   ]
  },
  {
   "cell_type": "code",
   "execution_count": 9,
   "metadata": {},
   "outputs": [],
   "source": [
    "def evaluate_model(model, extract_inputs_outputs_function, include_validation=False):\n",
    "    sets = [('train', train), ('test', test)]\n",
    "    if include_validation:\n",
    "        sets.append(('validation', validation))\n",
    "        \n",
    "    for set_name, set_data in sets:\n",
    "        inputs, outputs = extract_inputs_outputs_function(set_data)\n",
    "        predictions = model.predict(inputs)\n",
    "        \n",
    "        print(set_name, '#' * 80)\n",
    "        \n",
    "        # print metrics\n",
    "        \n",
    "        print('Accuracy:', accuracy_score(outputs, predictions))\n",
    "        print('Precision:', precision_score(outputs, predictions,average=None))\n",
    "        print('Recall:', recall_score(outputs, predictions,average=None))\n",
    "        print()\n",
    "        \n",
    "        # plot confussion matrix\n",
    "        \n",
    "        plt.figure(figsize=(3,4))\n",
    "        \n",
    "        plt.xticks([0, 1, 2], ['successful', 'failed', 'canceled'], rotation=45)\n",
    "        plt.yticks([0, 1, 2], ['successful', 'failed', 'canceled'])\n",
    "        plt.xlabel('Predicted class')\n",
    "        plt.ylabel('True class')\n",
    "\n",
    "        plt.title(set_name)\n",
    "\n",
    "        plt.imshow(\n",
    "            confusion_matrix(outputs, predictions), \n",
    "            cmap=plt.cm.Blues, \n",
    "            interpolation='nearest',\n",
    "        )\n",
    "\n",
    "        plt.show()"
   ]
  },
  {
   "cell_type": "markdown",
   "metadata": {},
   "source": [
    "# logistic regression"
   ]
  },
  {
   "cell_type": "code",
   "execution_count": 10,
   "metadata": {},
   "outputs": [],
   "source": [
    "from sklearn.linear_model import LogisticRegression\n",
    "from sklearn.preprocessing import StandardScaler\n",
    "from sklearn.pipeline import Pipeline"
   ]
  },
  {
   "cell_type": "code",
   "execution_count": 11,
   "metadata": {},
   "outputs": [
    {
     "data": {
      "text/plain": [
       "370448"
      ]
     },
     "execution_count": 11,
     "metadata": {},
     "output_type": "execute_result"
    }
   ],
   "source": [
    "ds = all_data.copy()\n",
    "ds = ds.drop(ds[ds['main_category'] == None].index)\n",
    "ds['main_category'] = ds.main_category.map({'Film & Video':1,'Music':2,'Publishing':3,'Games':4,'Technology':5,'Design':6,'Art':7,'Food':8,'Fashion':9,'Theater':10,'Comics':11,'Photography':12,'Crafts':13,'Journalism':14,'Dance':15})\n",
    "#ds['country'] = ds.country.map({'US':1,'GB':2,'CA':3,'AU':4,'DE':5,'FR':6,'NL':7,'IT':8,'ES':9,'SE':10,'MX':11,'NZ':12,'DK':13,'IE':14,'CH':15,'NO':16,'BE':17,'AT':18,'HK':19,'SG':20,'N,0\"':21,'LU':22,'JP':23})\n",
    "#ds.state.value_counts()  \n",
    "ds = ds.drop(ds[ds['countday'] > 100].index)\n",
    "ds.main_category.count()\n"
   ]
  },
  {
   "cell_type": "code",
   "execution_count": 12,
   "metadata": {},
   "outputs": [],
   "source": [
    "LR_INPUT_COLUMNS = [\n",
    "    'countday',\n",
    "    'backers',\n",
    "    'pledged',\n",
    "    'country',\n",
    "    'usd_pledged_real',\n",
    "    'usd_goal_real',\n",
    "    'main_category_fv',\n",
    "    'main_category_m',\n",
    "    'main_category_p', \n",
    "    'main_category_g', \n",
    "    'main_category_t', \n",
    "    'main_category_d', \n",
    "    'main_category_a', \n",
    "    'main_category_fd',\n",
    "    'main_category_fh',\n",
    "    'main_category_th',\n",
    "    'main_category_c', \n",
    "    'main_category_ph',\n",
    "    'main_category_cr',\n",
    "    'main_category_j', \n",
    "    'main_category_dc',\n",
    "]\n",
    "\n",
    "\n",
    "def lr_extract_inputs_outputs(dataset):\n",
    "    \"\"\"\n",
    "    Inputs in the format supported by the logistic regressor.\n",
    "    \"\"\"\n",
    "    inputs = dataset.copy()    \n",
    "    \n",
    "    inputs = inputs.drop(inputs[inputs['countday'] > 100].index)\n",
    "    #inputs['main_category'] = inputs.main_category.map({'Film & Video':1,'Music':2,'Publishing':3,'Games':4,'Technology':5,'Design':6,'Art':7,'Food':8,'Fashion':9,'Theater':10,'Comics':11,'Photography':12,'Crafts':13,'Journalism':14,'Dance':15})\n",
    "    inputs['main_category_fv'] = inputs.main_category == 'Film & Video'\n",
    "    inputs['main_category_m'] = inputs.main_category == 'Music'\n",
    "    inputs['main_category_p'] = inputs.main_category == 'Publishing'\n",
    "    inputs['main_category_g'] = inputs.main_category == 'Games'\n",
    "    inputs['main_category_t'] = inputs.main_category == 'Technology'\n",
    "    inputs['main_category_d'] = inputs.main_category == 'Design'\n",
    "    inputs['main_category_a'] = inputs.main_category == 'Art'\n",
    "    inputs['main_category_fd'] = inputs.main_category == 'Food'\n",
    "    inputs['main_category_fh'] = inputs.main_category == 'Fashion'\n",
    "    inputs['main_category_th'] = inputs.main_category == 'Theater'\n",
    "    inputs['main_category_c'] = inputs.main_category == 'Comics'\n",
    "    inputs['main_category_ph'] = inputs.main_category == 'Photography'\n",
    "    inputs['main_category_cr'] = inputs.main_category == 'Crafts'\n",
    "    inputs['main_category_j'] = inputs.main_category == 'Journalism'\n",
    "    inputs['main_category_dc'] = inputs.main_category == 'Dance'\n",
    "\n",
    "    del inputs['main_category']\n",
    "    \n",
    "    inputs['country'] = inputs.country.map({'US':1,'GB':2,'CA':3,'AU':4,'DE':5,'FR':6,'NL':7,'IT':8,'ES':9,'SE':10,'MX':11,'NZ':12,'DK':13,'IE':14,'CH':15,'NO':16,'BE':17,'AT':18,'HK':19,'SG':20,'N,0\"':21,'LU':22,'JP':23})\n",
    "    \n",
    "    #del inputs['country']\n",
    "    \n",
    "    # return the raw numbers\n",
    "    \"\"\"\n",
    "    Outputs in the format supported by the logistic regressor.\n",
    "    \"\"\"\n",
    "    outputs = dataset.state    \n",
    " \n",
    "    return [inputs[LR_INPUT_COLUMNS].values.astype(np.float64), outputs.values]"
   ]
  },
  {
   "cell_type": "code",
   "execution_count": 13,
   "metadata": {},
   "outputs": [],
   "source": [
    "lr_model = Pipeline([\n",
    "    ('scaler', StandardScaler()),\n",
    "    ('classifier', LogisticRegression()),\n",
    "])"
   ]
  },
  {
   "cell_type": "code",
   "execution_count": 14,
   "metadata": {},
   "outputs": [
    {
     "data": {
      "text/plain": [
       "Pipeline(memory=None,\n",
       "     steps=[('scaler', StandardScaler(copy=True, with_mean=True, with_std=True)), ('classifier', LogisticRegression(C=1.0, class_weight=None, dual=False, fit_intercept=True,\n",
       "          intercept_scaling=1, max_iter=100, multi_class='ovr', n_jobs=1,\n",
       "          penalty='l2', random_state=None, solver='liblinear', tol=0.0001,\n",
       "          verbose=0, warm_start=False))])"
      ]
     },
     "execution_count": 14,
     "metadata": {},
     "output_type": "execute_result"
    }
   ],
   "source": [
    "inputs, outputs = lr_extract_inputs_outputs(train)\n",
    "lr_model.fit(inputs,outputs)"
   ]
  },
  {
   "cell_type": "code",
   "execution_count": 15,
   "metadata": {},
   "outputs": [
    {
     "name": "stdout",
     "output_type": "stream",
     "text": [
      "train ################################################################################\n",
      "Accuracy: 0.7809356272607842\n",
      "Precision: [0.35572139 0.7304622  0.89912326]\n",
      "Recall: [0.00614789 0.95150748 0.753534  ]\n",
      "\n"
     ]
    },
    {
     "data": {
      "image/png": "[encoded data removed]",
      "text/plain": [
       "<Figure size 216x288 with 1 Axes>"
      ]
     },
     "metadata": {},
     "output_type": "display_data"
    },
    {
     "name": "stdout",
     "output_type": "stream",
     "text": [
      "test ################################################################################\n",
      "Accuracy: 0.7802267512484816\n",
      "Precision: [0.32089552 0.72910082 0.90074597]\n",
      "Recall: [0.00554338 0.951488   0.75194839]\n",
      "\n"
     ]
    },
    {
     "data": {
      "image/png": "[encoded data removed]",
      "text/plain": [
       "<Figure size 216x288 with 1 Axes>"
      ]
     },
     "metadata": {},
     "output_type": "display_data"
    }
   ],
   "source": [
    "evaluate_model(lr_model, lr_extract_inputs_outputs)"
   ]
  },
  {
   "cell_type": "code",
   "execution_count": 16,
   "metadata": {},
   "outputs": [],
   "source": [
    "from sklearn.tree import DecisionTreeClassifier"
   ]
  },
  {
   "cell_type": "code",
   "execution_count": 17,
   "metadata": {},
   "outputs": [],
   "source": [
    "# final input columns, in the order we want to use them\n",
    "TREE_INPUT_COLUMNS = [\n",
    "    'countday',\n",
    "    'backers',\n",
    "    'pledged',\n",
    "    'country',\n",
    "    'usd_pledged_real',\n",
    "    'usd_goal_real',\n",
    "    'main_category'\n",
    "]\n",
    "\n",
    "\n",
    "def tree_extract_inputs_outputs(dataset):\n",
    "    \"\"\"\n",
    "    Inputs in the format supported by the logistic regressor.\n",
    "    \"\"\"\n",
    "    # we don't want to modify the original dataset, that we will use with other models\n",
    "    inputs = dataset.copy()\n",
    "    inputs['main_category'] = inputs.main_category.map({'Film & Video':1,'Music':2,'Publishing':3,'Games':4,'Technology':5,'Design':6,'Art':7,'Food':8,'Fashion':9,'Theater':10,'Comics':11,'Photography':12,'Crafts':13,'Journalism':14,'Dance':15})\n",
    "    \n",
    "    inputs['country'] = inputs.country.map({'US':1,'GB':2,'CA':3,'AU':4,'DE':5,'FR':6,'NL':7,'IT':8,'ES':9,'SE':10,'MX':11,'NZ':12,'DK':13,'IE':14,'CH':15,'NO':16,'BE':17,'AT':18,'HK':19,'SG':20,'N,0\"':21,'LU':22,'JP':23})\n",
    "    \n",
    "    # return the raw numbers\n",
    "    return [inputs[TREE_INPUT_COLUMNS].values,dataset.state.values]\n",
    " "
   ]
  },
  {
   "cell_type": "code",
   "execution_count": 31,
   "metadata": {},
   "outputs": [],
   "source": [
    "tree_model = DecisionTreeClassifier( max_depth=7)"
   ]
  },
  {
   "cell_type": "code",
   "execution_count": 32,
   "metadata": {},
   "outputs": [
    {
     "data": {
      "text/plain": [
       "DecisionTreeClassifier(class_weight=None, criterion='gini', max_depth=7,\n",
       "            max_features=None, max_leaf_nodes=None,\n",
       "            min_impurity_decrease=0.0, min_impurity_split=None,\n",
       "            min_samples_leaf=1, min_samples_split=2,\n",
       "            min_weight_fraction_leaf=0.0, presort=False, random_state=None,\n",
       "            splitter='best')"
      ]
     },
     "execution_count": 32,
     "metadata": {},
     "output_type": "execute_result"
    }
   ],
   "source": [
    "inputs, outputs = tree_extract_inputs_outputs(train)\n",
    "tree_model.fit(inputs,outputs)"
   ]
  },
  {
   "cell_type": "code",
   "execution_count": 33,
   "metadata": {},
   "outputs": [
    {
     "name": "stdout",
     "output_type": "stream",
     "text": [
      "train ################################################################################\n",
      "Accuracy: 0.8907265103388702\n",
      "Precision: [0.66666667 0.83806859 0.98125688]\n",
      "Recall: [0.00120378 0.99257854 0.99781184]\n",
      "\n"
     ]
    },
    {
     "data": {
      "image/png": "[encoded data removed]",
      "text/plain": [
       "<Figure size 216x288 with 1 Axes>"
      ]
     },
     "metadata": {},
     "output_type": "display_data"
    },
    {
     "name": "stdout",
     "output_type": "stream",
     "text": [
      "test ################################################################################\n",
      "Accuracy: 0.8900256444864354\n",
      "Precision: [0.27272727 0.83728133 0.98085247]\n",
      "Recall: [3.86747454e-04 9.91977933e-01 9.97128687e-01]\n",
      "\n"
     ]
    },
    {
     "data": {
      "image/png": "[encoded data removed]",
      "text/plain": [
       "<Figure size 216x288 with 1 Axes>"
      ]
     },
     "metadata": {},
     "output_type": "display_data"
    }
   ],
   "source": [
    "evaluate_model(tree_model, tree_extract_inputs_outputs)"
   ]
  },
  {
   "cell_type": "code",
   "execution_count": 21,
   "metadata": {},
   "outputs": [],
   "source": [
    "from sklearn.ensemble import RandomForestClassifier"
   ]
  },
  {
   "cell_type": "code",
   "execution_count": 22,
   "metadata": {},
   "outputs": [],
   "source": [
    "forest_model = RandomForestClassifier()"
   ]
  },
  {
   "cell_type": "code",
   "execution_count": 23,
   "metadata": {},
   "outputs": [
    {
     "data": {
      "text/plain": [
       "RandomForestClassifier(bootstrap=True, class_weight=None, criterion='gini',\n",
       "            max_depth=None, max_features='auto', max_leaf_nodes=None,\n",
       "            min_impurity_decrease=0.0, min_impurity_split=None,\n",
       "            min_samples_leaf=1, min_samples_split=2,\n",
       "            min_weight_fraction_leaf=0.0, n_estimators=10, n_jobs=1,\n",
       "            oob_score=False, random_state=None, verbose=0,\n",
       "            warm_start=False)"
      ]
     },
     "execution_count": 23,
     "metadata": {},
     "output_type": "execute_result"
    }
   ],
   "source": [
    "inputs, outputs = tree_extract_inputs_outputs(train)\n",
    "forest_model.fit(inputs,outputs)"
   ]
  },
  {
   "cell_type": "code",
   "execution_count": 24,
   "metadata": {},
   "outputs": [
    {
     "name": "stdout",
     "output_type": "stream",
     "text": [
      "train ################################################################################\n",
      "Accuracy: 0.9764743462846653\n",
      "Precision: [0.9603122  0.96405887 0.99925459]\n",
      "Recall: [0.80932932 0.99330382 1.        ]\n",
      "\n"
     ]
    },
    {
     "data": {
      "image/png": "[encoded data removed]",
      "text/plain": [
       "<Figure size 216x288 with 1 Axes>"
      ]
     },
     "metadata": {},
     "output_type": "display_data"
    },
    {
     "name": "stdout",
     "output_type": "stream",
     "text": [
      "test ################################################################################\n",
      "Accuracy: 0.8705493318936429\n",
      "Precision: [0.24520256 0.84455532 0.98816066]\n",
      "Recall: [0.10377723 0.93384958 0.99906776]\n",
      "\n"
     ]
    },
    {
     "data": {
      "image/png": "[encoded data removed]",
      "text/plain": [
       "<Figure size 216x288 with 1 Axes>"
      ]
     },
     "metadata": {},
     "output_type": "display_data"
    }
   ],
   "source": [
    "evaluate_model(forest_model, tree_extract_inputs_outputs)"
   ]
  },
  {
   "cell_type": "code",
   "execution_count": null,
   "metadata": {},
   "outputs": [],
   "source": []
  }
 ],
 "metadata": {
  "kernelspec": {
   "display_name": "Python 3",
   "language": "python",
   "name": "python3"
  },
  "language_info": {
   "codemirror_mode": {
    "name": "ipython",
    "version": 3
   },
   "file_extension": ".py",
   "mimetype": "text/x-python",
   "name": "python",
   "nbconvert_exporter": "python",
   "pygments_lexer": "ipython3",
   "version": "3.6.5"
  }
 },
 "nbformat": 4,
 "nbformat_minor": 2
}
