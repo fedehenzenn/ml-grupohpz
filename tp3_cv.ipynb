{
 "cells": [
  {
   "cell_type": "code",
   "execution_count": 24,
   "metadata": {},
   "outputs": [],
   "source": [
    "import os\n",
    "import numpy as np\n",
    "import pandas as pd\n",
    "import matplotlib.pyplot as plt\n",
    "from keras.models import Sequential\n",
    "from keras.layers import Dense, Input, Dropout, Convolution2D, MaxPooling2D, Flatten\n",
    "from keras.utils import np_utils\n",
    "from sklearn.model_selection import train_test_split\n",
    "from sklearn.metrics import accuracy_score, confusion_matrix\n"
   ]
  },
  {
   "cell_type": "code",
   "execution_count": 13,
   "metadata": {},
   "outputs": [],
   "source": [
    "PICTURE_SIZE = 32\n",
    "CHANNELS = 'rgb'\n",
    "\n",
    "INPUT_COLUMNS = []\n",
    "\n",
    "for color in CHANNELS:\n",
    "    INPUT_COLUMNS.extend(['%s%i' % (color, i)\n",
    "                          for i in range(PICTURE_SIZE ** 2)])\n",
    "old_column=list(range(0,PICTURE_SIZE*PICTURE_SIZE*3))"
   ]
  },
  {
   "cell_type": "code",
   "execution_count": 3,
   "metadata": {},
   "outputs": [],
   "source": [
    "import cv2\n",
    "\n",
    "def load_images(path):\n",
    "    img_data = []\n",
    "    labels = []\n",
    "    idx_to_label = []\n",
    "    i = -1\n",
    "    for fruit in os.listdir(path):\n",
    "        fruit_path = os.path.join(path,fruit)\n",
    "        labels.append(fruit)\n",
    "        i = i+1\n",
    "        for img in os.listdir(fruit_path):\n",
    "            img_path = os.path.join(fruit_path,img)\n",
    "            image = cv2.imread(img_path)\n",
    "            image = cv2.resize(image, (32, 32))\n",
    "            image = cv2.cvtColor(image, cv2.COLOR_BGR2RGB)\n",
    "            img_data.append(image)\n",
    "            idx_to_label.append(i)\n",
    "    return np.array(img_data),np.array(idx_to_label),labels"
   ]
  },
  {
   "cell_type": "code",
   "execution_count": 4,
   "metadata": {},
   "outputs": [],
   "source": [
    "training_data_path = '/home/fede/Documentos/Machine-learning/PT-1/data/Training'\n",
    "validation_data_path = '/home/fede/Documentos/Machine-learning/PT-1/data/Validation'\n",
    "X_train,y_train,label_data = load_images(training_data_path)\n",
    "X_test,y_test,label_data_garbage = load_images(validation_data_path)"
   ]
  },
  {
   "cell_type": "code",
   "execution_count": 5,
   "metadata": {},
   "outputs": [
    {
     "data": {
      "text/plain": [
       "(32, 32, 3)"
      ]
     },
     "execution_count": 5,
     "metadata": {},
     "output_type": "execute_result"
    }
   ],
   "source": [
    "X_train[0].shape"
   ]
  },
  {
   "cell_type": "code",
   "execution_count": 6,
   "metadata": {},
   "outputs": [
    {
     "name": "stdout",
     "output_type": "stream",
     "text": [
      "(33657, 3073)\n"
     ]
    }
   ],
   "source": [
    "train_rearmado=X_train.reshape(len(y_train),-1)#Rearma el array en dos dimensiones \n",
    "\n",
    "trainDF=pd.DataFrame(data=train_rearmado) \n",
    "\n",
    "etiqueta=pd.Series(data=y_train) #crea una serie con el index de las imagenes y el index de las etiquetas\n",
    "\n",
    "etiqueta=etiqueta.replace({v: k for v, k in enumerate(label_data)},)#remplaza el index de las etiquetas con nombre de las mismas\n",
    "\n",
    "\n",
    "trainDF['etiqueta']=etiqueta\n",
    "print(trainDF.shape)"
   ]
  },
  {
   "cell_type": "code",
   "execution_count": 7,
   "metadata": {},
   "outputs": [
    {
     "data": {
      "text/html": [
       "<div>\n",
       "<style scoped>\n",
       "    .dataframe tbody tr th:only-of-type {\n",
       "        vertical-align: middle;\n",
       "    }\n",
       "\n",
       "    .dataframe tbody tr th {\n",
       "        vertical-align: top;\n",
       "    }\n",
       "\n",
       "    .dataframe thead th {\n",
       "        text-align: right;\n",
       "    }\n",
       "</style>\n",
       "<table border=\"1\" class=\"dataframe\">\n",
       "  <thead>\n",
       "    <tr style=\"text-align: right;\">\n",
       "      <th></th>\n",
       "      <th>0</th>\n",
       "      <th>1</th>\n",
       "      <th>2</th>\n",
       "      <th>3</th>\n",
       "      <th>4</th>\n",
       "      <th>5</th>\n",
       "      <th>6</th>\n",
       "      <th>7</th>\n",
       "      <th>8</th>\n",
       "      <th>9</th>\n",
       "      <th>...</th>\n",
       "      <th>3063</th>\n",
       "      <th>3064</th>\n",
       "      <th>3065</th>\n",
       "      <th>3066</th>\n",
       "      <th>3067</th>\n",
       "      <th>3068</th>\n",
       "      <th>3069</th>\n",
       "      <th>3070</th>\n",
       "      <th>3071</th>\n",
       "      <th>etiqueta</th>\n",
       "    </tr>\n",
       "  </thead>\n",
       "  <tbody>\n",
       "    <tr>\n",
       "      <th>6970</th>\n",
       "      <td>255</td>\n",
       "      <td>255</td>\n",
       "      <td>255</td>\n",
       "      <td>255</td>\n",
       "      <td>255</td>\n",
       "      <td>255</td>\n",
       "      <td>255</td>\n",
       "      <td>255</td>\n",
       "      <td>255</td>\n",
       "      <td>255</td>\n",
       "      <td>...</td>\n",
       "      <td>255</td>\n",
       "      <td>255</td>\n",
       "      <td>255</td>\n",
       "      <td>255</td>\n",
       "      <td>255</td>\n",
       "      <td>255</td>\n",
       "      <td>255</td>\n",
       "      <td>255</td>\n",
       "      <td>255</td>\n",
       "      <td>Papaya</td>\n",
       "    </tr>\n",
       "    <tr>\n",
       "      <th>11061</th>\n",
       "      <td>254</td>\n",
       "      <td>255</td>\n",
       "      <td>255</td>\n",
       "      <td>255</td>\n",
       "      <td>255</td>\n",
       "      <td>255</td>\n",
       "      <td>254</td>\n",
       "      <td>254</td>\n",
       "      <td>254</td>\n",
       "      <td>255</td>\n",
       "      <td>...</td>\n",
       "      <td>255</td>\n",
       "      <td>255</td>\n",
       "      <td>255</td>\n",
       "      <td>255</td>\n",
       "      <td>255</td>\n",
       "      <td>255</td>\n",
       "      <td>255</td>\n",
       "      <td>255</td>\n",
       "      <td>255</td>\n",
       "      <td>Apple Red 1</td>\n",
       "    </tr>\n",
       "    <tr>\n",
       "      <th>28904</th>\n",
       "      <td>255</td>\n",
       "      <td>255</td>\n",
       "      <td>255</td>\n",
       "      <td>255</td>\n",
       "      <td>255</td>\n",
       "      <td>255</td>\n",
       "      <td>255</td>\n",
       "      <td>255</td>\n",
       "      <td>255</td>\n",
       "      <td>255</td>\n",
       "      <td>...</td>\n",
       "      <td>255</td>\n",
       "      <td>255</td>\n",
       "      <td>255</td>\n",
       "      <td>255</td>\n",
       "      <td>255</td>\n",
       "      <td>255</td>\n",
       "      <td>255</td>\n",
       "      <td>255</td>\n",
       "      <td>255</td>\n",
       "      <td>Mango</td>\n",
       "    </tr>\n",
       "    <tr>\n",
       "      <th>1969</th>\n",
       "      <td>255</td>\n",
       "      <td>255</td>\n",
       "      <td>255</td>\n",
       "      <td>255</td>\n",
       "      <td>255</td>\n",
       "      <td>255</td>\n",
       "      <td>255</td>\n",
       "      <td>255</td>\n",
       "      <td>255</td>\n",
       "      <td>255</td>\n",
       "      <td>...</td>\n",
       "      <td>255</td>\n",
       "      <td>255</td>\n",
       "      <td>255</td>\n",
       "      <td>255</td>\n",
       "      <td>255</td>\n",
       "      <td>255</td>\n",
       "      <td>255</td>\n",
       "      <td>255</td>\n",
       "      <td>255</td>\n",
       "      <td>Banana</td>\n",
       "    </tr>\n",
       "    <tr>\n",
       "      <th>20225</th>\n",
       "      <td>255</td>\n",
       "      <td>255</td>\n",
       "      <td>255</td>\n",
       "      <td>255</td>\n",
       "      <td>255</td>\n",
       "      <td>255</td>\n",
       "      <td>255</td>\n",
       "      <td>255</td>\n",
       "      <td>255</td>\n",
       "      <td>255</td>\n",
       "      <td>...</td>\n",
       "      <td>255</td>\n",
       "      <td>255</td>\n",
       "      <td>255</td>\n",
       "      <td>255</td>\n",
       "      <td>255</td>\n",
       "      <td>255</td>\n",
       "      <td>255</td>\n",
       "      <td>255</td>\n",
       "      <td>255</td>\n",
       "      <td>Pepino</td>\n",
       "    </tr>\n",
       "  </tbody>\n",
       "</table>\n",
       "<p>5 rows × 3073 columns</p>\n",
       "</div>"
      ],
      "text/plain": [
       "         0    1    2    3    4    5    6    7    8    9     ...       3063  \\\n",
       "6970   255  255  255  255  255  255  255  255  255  255     ...        255   \n",
       "11061  254  255  255  255  255  255  254  254  254  255     ...        255   \n",
       "28904  255  255  255  255  255  255  255  255  255  255     ...        255   \n",
       "1969   255  255  255  255  255  255  255  255  255  255     ...        255   \n",
       "20225  255  255  255  255  255  255  255  255  255  255     ...        255   \n",
       "\n",
       "       3064  3065  3066  3067  3068  3069  3070  3071     etiqueta  \n",
       "6970    255   255   255   255   255   255   255   255       Papaya  \n",
       "11061   255   255   255   255   255   255   255   255  Apple Red 1  \n",
       "28904   255   255   255   255   255   255   255   255        Mango  \n",
       "1969    255   255   255   255   255   255   255   255       Banana  \n",
       "20225   255   255   255   255   255   255   255   255       Pepino  \n",
       "\n",
       "[5 rows x 3073 columns]"
      ]
     },
     "execution_count": 7,
     "metadata": {},
     "output_type": "execute_result"
    }
   ],
   "source": [
    "trainDF.sample(5)"
   ]
  },
  {
   "cell_type": "code",
   "execution_count": 8,
   "metadata": {},
   "outputs": [],
   "source": [
    "test_rearmado=X_test.reshape(len(y_test),-1)#Rearma el array en dos dimensiones \n",
    "\n",
    "testDF=pd.DataFrame(data=test_rearmado) \n",
    "\n",
    "etiqueta=pd.Series(data=y_test) #crea una serie con el index de las imagenes y el index de las etiquetas\n",
    "\n",
    "etiqueta=etiqueta.replace({v: k for v, k in enumerate(label_data)},)#remplaza el index de las etiquetas con nombre de las mismas\n",
    "\n",
    "\n",
    "testDF['etiqueta']=etiqueta"
   ]
  },
  {
   "cell_type": "code",
   "execution_count": 14,
   "metadata": {},
   "outputs": [],
   "source": [
    "def show_images(samples):\n",
    "    for index, sample in samples.iterrows():\n",
    "\n",
    "        sample_as_grid = sample[old_column].values.reshape(PICTURE_SIZE, PICTURE_SIZE, len(CHANNELS)).astype(np.float)\n",
    "        sample_as_grid = sample_as_grid / 255\n",
    "        \n",
    "        plt.axis('off')\n",
    "        plt.imshow(sample_as_grid, interpolation='nearest')\n",
    "\n",
    "        plt.show()"
   ]
  },
  {
   "cell_type": "code",
   "execution_count": 15,
   "metadata": {},
   "outputs": [
    {
     "data": {
      "image/png": "[encoded data removed]",
      "text/plain": [
       "<Figure size 432x288 with 1 Axes>"
      ]
     },
     "metadata": {},
     "output_type": "display_data"
    },
    {
     "data": {
      "image/png": "[encoded data removed]",
      "text/plain": [
       "<Figure size 432x288 with 1 Axes>"
      ]
     },
     "metadata": {},
     "output_type": "display_data"
    },
    {
     "data": {
      "image/png": "[encoded data removed]",
      "text/plain": [
       "<Figure size 432x288 with 1 Axes>"
      ]
     },
     "metadata": {},
     "output_type": "display_data"
    },
    {
     "data": {
      "image/png": "[encoded data removed]",
      "text/plain": [
       "<Figure size 432x288 with 1 Axes>"
      ]
     },
     "metadata": {},
     "output_type": "display_data"
    },
    {
     "data": {
      "image/png": "[encoded data removed]",
      "text/plain": [
       "<Figure size 432x288 with 1 Axes>"
      ]
     },
     "metadata": {},
     "output_type": "display_data"
    }
   ],
   "source": [
    "show_images(testDF.sample(5))"
   ]
  },
  {
   "cell_type": "code",
   "execution_count": 16,
   "metadata": {},
   "outputs": [],
   "source": [
    "train = trainDF.copy()\n",
    "test = testDF.copy()\n",
    "\n",
    "sets = (\n",
    "    ('train', train),\n",
    "    ('test', test),\n",
    ")"
   ]
  },
  {
   "cell_type": "code",
   "execution_count": 17,
   "metadata": {},
   "outputs": [],
   "source": [
    "def extract_inputs(dataset):\n",
    "    \"\"\"\n",
    "    Extrae del conjunto de datos original solo las \n",
    "    columnas que se deben utilizar como entrada. \n",
    "    \"\"\"\n",
    "    # estandarización rápida y simple: dividir todo por 255 :)\n",
    "    #return dataset[INPUT_COLUMNS].values / 255\n",
    "    return dataset[old_column].values.reshape(len(dataset), PICTURE_SIZE, PICTURE_SIZE, len(CHANNELS)) / 255\n",
    "\n",
    "\n",
    "def extract_outputs(dataset):\n",
    "    \"\"\"\n",
    "    Extrae del conjunto de datos original solo la \n",
    "    columna que se debe utilizar como salida y retorna\n",
    "    tantas columnas como etiquetas distintas existan.\n",
    "    Por ejemplo, podríamos pensar que las columnas resultantes\n",
    "    serían: es_fisa, es_gabi, es_mariano.\n",
    "    \"\"\"\n",
    "    is_fruit_columns = [(dataset.etiqueta == fruit).values for fruit in label_data]\n",
    "    return np.array(is_fruit_columns).T"
   ]
  },
  {
   "cell_type": "code",
   "execution_count": 18,
   "metadata": {},
   "outputs": [],
   "source": [
    "model = Sequential([\n",
    "    #Dense(10, activation='tanh', input_shape=(len(INPUT_COLUMNS), )),\n",
    "    Convolution2D(8, (4, 4), activation='relu', input_shape=(PICTURE_SIZE, PICTURE_SIZE, len(CHANNELS)),),\n",
    "    Convolution2D(8, (4, 4), activation='relu'),\n",
    "    MaxPooling2D(pool_size=(4, 4)),\n",
    "    Dropout(0.2),\n",
    "    Flatten(),\n",
    "        \n",
    "    Dense(10, activation='tanh'),\n",
    "    Dropout(0.2),\n",
    "    Dense(10, activation='tanh'),\n",
    "    Dropout(0.2),\n",
    "\n",
    "    Dense(len(label_data), activation='softmax'),\n",
    "])\n",
    "\n",
    "model.compile(\n",
    "    optimizer='adam',\n",
    "    loss='categorical_crossentropy',\n",
    "    metrics=['accuracy',],\n",
    ")"
   ]
  },
  {
   "cell_type": "code",
   "execution_count": 19,
   "metadata": {},
   "outputs": [
    {
     "name": "stdout",
     "output_type": "stream",
     "text": [
      "Train on 33657 samples, validate on 11312 samples\n",
      "Epoch 1/5\n",
      "33657/33657 [==============================] - 55s 2ms/step - loss: 3.6048 - acc: 0.0905 - val_loss: 3.0410 - val_acc: 0.1701\n",
      "Epoch 2/5\n",
      "33657/33657 [==============================] - 56s 2ms/step - loss: 2.8663 - acc: 0.1870 - val_loss: 2.4723 - val_acc: 0.2542\n",
      "Epoch 3/5\n",
      "33657/33657 [==============================] - 56s 2ms/step - loss: 2.5070 - acc: 0.2400 - val_loss: 2.1771 - val_acc: 0.3747\n",
      "Epoch 4/5\n",
      "33657/33657 [==============================] - 58s 2ms/step - loss: 2.3006 - acc: 0.2854 - val_loss: 1.9509 - val_acc: 0.4626\n",
      "Epoch 5/5\n",
      "33657/33657 [==============================] - 57s 2ms/step - loss: 2.1689 - acc: 0.3131 - val_loss: 1.8547 - val_acc: 0.4617\n"
     ]
    }
   ],
   "source": [
    "history = model.fit(\n",
    "    extract_inputs(train), \n",
    "    extract_outputs(train), \n",
    "    epochs=5,\n",
    "    batch_size=64,\n",
    "    validation_data=(\n",
    "        extract_inputs(test),\n",
    "        extract_outputs(test),\n",
    "    )\n",
    ")"
   ]
  },
  {
   "cell_type": "code",
   "execution_count": 22,
   "metadata": {},
   "outputs": [],
   "source": [
    "def add_predictions(dataset):\n",
    "\n",
    "    predictions = model.predict(extract_inputs(dataset))\n",
    "\n",
    "    for fruit_number, fruit in enumerate(label_data):\n",
    "        dataset[fruit] = predictions[:, fruit_number]\n",
    "    \n",
    "    dataset['prediction'] = dataset[label_data].idxmax(axis=1)\n",
    "    dataset['prediction_confidence'] = dataset[label_data].max(axis=1)\n",
    "    dataset['correct'] = dataset.prediction == dataset.etiqueta"
   ]
  },
  {
   "cell_type": "code",
   "execution_count": 26,
   "metadata": {},
   "outputs": [
    {
     "name": "stdout",
     "output_type": "stream",
     "text": [
      "######################### train #########################\n",
      "accuracy 0.5068187895534362\n"
     ]
    },
    {
     "data": {
      "image/png": "[encoded data removed]",
      "text/plain": [
       "<Figure size 1080x1008 with 1 Axes>"
      ]
     },
     "metadata": {},
     "output_type": "display_data"
    },
    {
     "name": "stdout",
     "output_type": "stream",
     "text": [
      "######################### test #########################\n",
      "accuracy 0.4617220650636492\n"
     ]
    },
    {
     "data": {
      "image/png": "[encoded data removed]",
      "text/plain": [
       "<Figure size 1080x1008 with 1 Axes>"
      ]
     },
     "metadata": {},
     "output_type": "display_data"
    }
   ],
   "source": [
    "for set_name, set_data in sets:\n",
    "    add_predictions(set_data)\n",
    "    \n",
    "    print('#' * 25, set_name, '#' * 25)\n",
    "    print('accuracy', accuracy_score(set_data.etiqueta, set_data.prediction))\n",
    "\n",
    "    # plot confussion matrix\n",
    "        \n",
    "    plt.figure(figsize=(15,14))\n",
    "        \n",
    "    plt.xticks([0, 1, 2, 3], label_data, rotation=45)\n",
    "    plt.yticks([0, 1, 2, 3], label_data)\n",
    "    plt.xlabel('Predicted class')\n",
    "    plt.ylabel('True class')\n",
    "\n",
    "    plt.title(set_name)\n",
    "\n",
    "    plt.imshow(\n",
    "        confusion_matrix(set_data.etiqueta, set_data.prediction), \n",
    "        cmap=plt.cm.Blues,\n",
    "        interpolation='nearest',\n",
    "    )\n",
    "\n",
    "    plt.show()"
   ]
  },
  {
   "cell_type": "code",
   "execution_count": null,
   "metadata": {},
   "outputs": [],
   "source": []
  }
 ],
 "metadata": {
  "kernelspec": {
   "display_name": "Python 3",
   "language": "python",
   "name": "python3"
  },
  "language_info": {
   "codemirror_mode": {
    "name": "ipython",
    "version": 3
   },
   "file_extension": ".py",
   "mimetype": "text/x-python",
   "name": "python",
   "nbconvert_exporter": "python",
   "pygments_lexer": "ipython3",
   "version": "3.6.5"
  }
 },
 "nbformat": 4,
 "nbformat_minor": 2
}
