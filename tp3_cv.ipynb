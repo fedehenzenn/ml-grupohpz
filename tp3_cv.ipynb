{
 "cells": [
  {
   "cell_type": "code",
   "execution_count": 5,
   "metadata": {},
   "outputs": [
    {
     "name": "stderr",
     "output_type": "stream",
     "text": [
      "/home/fede/Documentos/Machine-learning/PT-1/tp1_exploration/lib/python3.6/site-packages/h5py/__init__.py:36: FutureWarning: Conversion of the second argument of issubdtype from `float` to `np.floating` is deprecated. In future, it will be treated as `np.float64 == np.dtype(float).type`.\n",
      "  from ._conv import register_converters as _register_converters\n",
      "Using TensorFlow backend.\n"
     ]
    }
   ],
   "source": [
    "import os\n",
    "import numpy as np\n",
    "import pandas as pd\n",
    "import matplotlib.pyplot as plt\n",
    "from keras.models import Sequential\n",
    "from keras.layers import Dense, Input, Dropout, Convolution2D, MaxPooling2D, Flatten\n"
   ]
  },
  {
   "cell_type": "code",
   "execution_count": 6,
   "metadata": {},
   "outputs": [],
   "source": [
    "import cv2\n",
    "\n",
    "def load_images(path):\n",
    "    img_data = []\n",
    "    labels = []\n",
    "    idx_to_label = []\n",
    "    i = -1\n",
    "    for fruit in os.listdir(path):\n",
    "        fruit_path = os.path.join(path,fruit)\n",
    "        labels.append(fruit)\n",
    "        i = i+1\n",
    "        for img in os.listdir(fruit_path):\n",
    "            img_path = os.path.join(fruit_path,img)\n",
    "            image = cv2.imread(img_path)\n",
    "            image = cv2.resize(image, (100, 100))\n",
    "            image = cv2.cvtColor(image, cv2.COLOR_RGB2BGR)\n",
    "            img_data.append(image)\n",
    "            idx_to_label.append(i)\n",
    "    return np.array(img_data),np.array(idx_to_label),labels"
   ]
  },
  {
   "cell_type": "code",
   "execution_count": 24,
   "metadata": {},
   "outputs": [
    {
     "name": "stdout",
     "output_type": "stream",
     "text": [
      "(33657, 64, 64, 3)\n",
      "(33657,)\n",
      "['Litchi', 'Strawberry', 'Grape White 2', 'Cherry 1', 'Banana', 'Apple Red Yellow', 'Kiwi', 'Cactus fruit', 'Banana Red', 'Avocado', 'Kaki', 'Lemon Meyer', 'Kumquats', 'Mandarine', 'Papaya', 'Pineapple Mini', 'Cocos', 'Raspberry', 'Pear Abate', 'Grape White', 'Peach Flat', 'Apple Golden 3', 'Apple Red 1', 'Apricot', 'Pear Monster', 'Granadilla', 'Melon Piel de Sapo', 'Grapefruit White', 'Apple Golden 1', 'Tangelo', 'Pitahaya Red', 'Cantaloupe 1', 'Cantaloupe 2', 'Peach', 'Cherry Rainier', 'Apple Granny Smith', 'Pomegranate', 'Huckleberry', 'Guava', 'Grape Pink', 'Pepino', 'Limes', 'Dates', 'Carambula', 'Orange', 'Apple Golden 2', 'Clementine', 'Pear', 'Apple Red 2', 'Tamarillo', 'Plum', 'Avocado ripe', 'Apple Red Delicious', 'Apple Braeburn', 'Strawberry Wedge', 'Apple Red 3', 'Quince', 'Mango', 'Pear Williams', 'Nectarine', 'Salak', 'Lemon', 'Cherry 2', 'Pineapple', 'Passion Fruit', 'Grapefruit Pink', 'Maracuja']\n"
     ]
    }
   ],
   "source": [
    "training_data_path = '/home/fede/Documentos/Machine-learning/PT-1/data/Training'\n",
    "validation_data_path = '/home/fede/Documentos/Machine-learning/PT-1/data/Validation'\n",
    "X_train,y_train,label_data = load_images(training_data_path)\n",
    "print(X_train.shape)\n",
    "print(y_train.shape)\n",
    "print(label_data)\n",
    "X_test,y_test,label_data_garbage = load_images(validation_data_path)"
   ]
  },
  {
   "cell_type": "code",
   "execution_count": null,
   "metadata": {},
   "outputs": [],
   "source": []
  }
 ],
 "metadata": {
  "kernelspec": {
   "display_name": "Python 3",
   "language": "python",
   "name": "python3"
  },
  "language_info": {
   "codemirror_mode": {
    "name": "ipython",
    "version": 3
   },
   "file_extension": ".py",
   "mimetype": "text/x-python",
   "name": "python",
   "nbconvert_exporter": "python",
   "pygments_lexer": "ipython3",
   "version": "3.6.5"
  }
 },
 "nbformat": 4,
 "nbformat_minor": 2
}
